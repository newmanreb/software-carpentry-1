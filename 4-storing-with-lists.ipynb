{
 "cells": [
  {
   "cell_type": "code",
   "id": "initial_id",
   "metadata": {
    "collapsed": true,
    "ExecuteTime": {
     "end_time": "2025-03-10T12:44:39.115920Z",
     "start_time": "2025-03-10T12:44:39.110617Z"
    }
   },
   "source": [
    "mild_salsa = ['peppers', 'onions', 'cilantro', 'tomatoes']\n",
    "hot_salsa = list(mild_salsa)    # If list() wasn't applied, there would be problems\n",
    "hot_salsa[0] = 'hot peppers'\n",
    "print('Ingredients in mild salsa:', mild_salsa)\n",
    "print('Ingredients in hot salsa:', hot_salsa)"
   ],
   "outputs": [
    {
     "name": "stdout",
     "output_type": "stream",
     "text": [
      "Ingredients in mild salsa: ['peppers', 'onions', 'cilantro', 'tomatoes']\n",
      "Ingredients in hot salsa: ['hot peppers', 'onions', 'cilantro', 'tomatoes']\n"
     ]
    }
   ],
   "execution_count": 2
  },
  {
   "metadata": {
    "ExecuteTime": {
     "end_time": "2025-03-10T12:47:54.440551Z",
     "start_time": "2025-03-10T12:47:54.435985Z"
    }
   },
   "cell_type": "code",
   "source": [
    "# Nested lists\n",
    "veg = [['lettuce', 'lettuce', 'peppers', 'zucchini'],\n",
    "       ['lettuce', 'lettuce', 'peppers', 'zucchini'],\n",
    "       ['lettuce', 'cilantro', 'peppers', 'zucchini']]\n",
    "print(veg[2])\n",
    "print(veg[2][0])"
   ],
   "id": "7eca57334a176a3",
   "outputs": [
    {
     "name": "stdout",
     "output_type": "stream",
     "text": [
      "['lettuce', 'cilantro', 'peppers', 'zucchini']\n",
      "lettuce\n"
     ]
    }
   ],
   "execution_count": 6
  },
  {
   "metadata": {
    "ExecuteTime": {
     "end_time": "2025-03-10T12:50:32.984920Z",
     "start_time": "2025-03-10T12:50:32.979380Z"
    }
   },
   "cell_type": "code",
   "source": [
    "# Heterogeneous lists\n",
    "sample_ages = [10, 12.5, 'Unknown']\n",
    "odds = [1, 3, 5, 7]\n",
    "odds.append(11)\n",
    "print('odds after adding a value:', odds)\n",
    "\n",
    "removed_element = odds.pop(0)\n",
    "print('odds after removing an element:', odds)\n",
    "print('removed element:', removed_element)\n",
    "\n",
    "odds.reverse()\n",
    "print('odds after reversing:', odds)"
   ],
   "id": "8d2de43b742bfdb9",
   "outputs": [
    {
     "name": "stdout",
     "output_type": "stream",
     "text": [
      "odds after adding a value: [1, 3, 5, 7, 11]\n",
      "odds after removing an element: [3, 5, 7, 11]\n",
      "removed element: 1\n",
      "odds after reversing: [11, 7, 5, 3]\n"
     ]
    }
   ],
   "execution_count": 9
  },
  {
   "metadata": {
    "ExecuteTime": {
     "end_time": "2025-03-10T12:51:31.395252Z",
     "start_time": "2025-03-10T12:51:31.391113Z"
    }
   },
   "cell_type": "code",
   "source": [
    "odds = [3, 5, 7]\n",
    "primes = odds\n",
    "primes.append(2)\n",
    "print('primes:', primes)\n",
    "print('odds:', odds)"
   ],
   "id": "fa4fe91d88067e74",
   "outputs": [
    {
     "name": "stdout",
     "output_type": "stream",
     "text": [
      "primes: [3, 5, 7, 2]\n",
      "odds: [3, 5, 7, 2]\n"
     ]
    }
   ],
   "execution_count": 10
  },
  {
   "metadata": {
    "ExecuteTime": {
     "end_time": "2025-03-10T12:52:09.272477Z",
     "start_time": "2025-03-10T12:52:09.268065Z"
    }
   },
   "cell_type": "code",
   "source": [
    "odds = [3, 5, 7]\n",
    "primes = list(odds)\n",
    "primes.append(2)\n",
    "print('primes:', primes)\n",
    "print('odds:', odds)"
   ],
   "id": "89611acb1fbfade7",
   "outputs": [
    {
     "name": "stdout",
     "output_type": "stream",
     "text": [
      "primes: [3, 5, 7, 2]\n",
      "odds: [3, 5, 7]\n"
     ]
    }
   ],
   "execution_count": 11
  },
  {
   "metadata": {
    "ExecuteTime": {
     "end_time": "2025-03-10T12:55:23.877847Z",
     "start_time": "2025-03-10T12:55:23.872810Z"
    }
   },
   "cell_type": "code",
   "source": [
    "# Slicing the list or string\n",
    "binomial_name = 'Drosophila melanogaster'\n",
    "group = binomial_name[0:10]\n",
    "print('group:', group)\n",
    "\n",
    "species = binomial_name[11:23]\n",
    "print('species:', species)\n",
    "\n",
    "chromosomes = ['X', 'Y', '2', '3', '4']\n",
    "autosomes = chromosomes[2:5]\n",
    "print('autosomes:', autosomes)\n",
    "\n",
    "last = chromosomes[-1]\n",
    "print('last:', last)"
   ],
   "id": "c867ba8c0a0dbd76",
   "outputs": [
    {
     "name": "stdout",
     "output_type": "stream",
     "text": [
      "group: Drosophila\n",
      "species: melanogaster\n",
      "autosomes: ['2', '3', '4']\n",
      "last: 4\n"
     ]
    }
   ],
   "execution_count": 21
  },
  {
   "metadata": {
    "ExecuteTime": {
     "end_time": "2025-03-10T12:58:57.411790Z",
     "start_time": "2025-03-10T12:58:57.406527Z"
    }
   },
   "cell_type": "code",
   "source": [
    "# Slicing from the end\n",
    "string_for_slicing = 'Observation date: 02-Feb-2013'\n",
    "list_for_slicing = [['fluorine', 'F'],\n",
    "                    ['chlorine', 'Cl'],\n",
    "                    ['bromine', 'Br'],\n",
    "                    ['iodine', 'I'],\n",
    "                    ['astatine', 'At']]\n",
    "print(string_for_slicing)\n",
    "print(list_for_slicing)\n",
    "print(string_for_slicing[-4:])\n",
    "print(list_for_slicing[-4:])"
   ],
   "id": "ec64d71d871b09d5",
   "outputs": [
    {
     "name": "stdout",
     "output_type": "stream",
     "text": [
      "Observation date: 02-Feb-2013\n",
      "[['fluorine', 'F'], ['chlorine', 'Cl'], ['bromine', 'Br'], ['iodine', 'I'], ['astatine', 'At']]\n",
      "2013\n",
      "[['chlorine', 'Cl'], ['bromine', 'Br'], ['iodine', 'I'], ['astatine', 'At']]\n"
     ]
    }
   ],
   "execution_count": 31
  },
  {
   "metadata": {
    "ExecuteTime": {
     "end_time": "2025-03-10T13:04:03.160933Z",
     "start_time": "2025-03-10T13:04:03.155074Z"
    }
   },
   "cell_type": "code",
   "source": [
    "# Non continuous slices\n",
    "# Third argument in slicing provides a step size\n",
    "primes = [2, 3, 5, 7, 11, 13, 17, 19, 23, 29, 31, 37]\n",
    "subset = primes[0:12:3]\n",
    "print('subset:', subset)\n",
    "\n",
    "# If you wanted the subset to begin with the third entry:\n",
    "subset2 = primes[2:12:3]\n",
    "print('second subset:', subset2)\n",
    "\n",
    "# Create a new string that contains every other character\n",
    "beatles = \"In an octopus's garden in the shade\"\n",
    "every_other = beatles[0:len(beatles):2]\n",
    "print(every_other)\n",
    "# Alternatively,\n",
    "every_other2 = beatles[::2]\n",
    "print(every_other2)"
   ],
   "id": "f29816b493480825",
   "outputs": [
    {
     "name": "stdout",
     "output_type": "stream",
     "text": [
      "subset: [2, 7, 17, 29]\n",
      "second subset: [5, 13, 23, 37]\n",
      "I notpssgre ntesae\n",
      "I notpssgre ntesae\n"
     ]
    }
   ],
   "execution_count": 37
  },
  {
   "metadata": {
    "ExecuteTime": {
     "end_time": "2025-03-10T13:29:29.048050Z",
     "start_time": "2025-03-10T13:29:29.044136Z"
    }
   },
   "cell_type": "code",
   "source": [
    "# Take a slice from the beginning of a sequence\n",
    "date = 'Monday 4 January 2016'\n",
    "day = date[0:6]\n",
    "print('Using 0 to begin range:', day)\n",
    "day = date[:6]\n",
    "print('Omitting beginning index', day)"
   ],
   "id": "2ec3b1d0ce615ee3",
   "outputs": [
    {
     "name": "stdout",
     "output_type": "stream",
     "text": [
      "Using 0 to begin range: Monday\n",
      "Omitting beginning index Monday\n"
     ]
    }
   ],
   "execution_count": 38
  },
  {
   "metadata": {
    "ExecuteTime": {
     "end_time": "2025-03-10T13:31:48.762982Z",
     "start_time": "2025-03-10T13:31:48.757964Z"
    }
   },
   "cell_type": "code",
   "source": [
    "# Omit the ending index in the range to take a slice to the very end of the sequence\n",
    "months = ['jan', 'feb', 'mar', 'apr', 'may', 'jun', 'jul', 'aug', 'sep', 'oct', 'nov', 'dec']\n",
    "sond = months[8:12]\n",
    "print('With known last position:', sond)\n",
    "sond = months[8:len(months)]\n",
    "print('Using len() to get last entry:', sond)\n",
    "sond = months[8:]\n",
    "print('Omitting ending index:', sond)"
   ],
   "id": "83643c6e54302499",
   "outputs": [
    {
     "name": "stdout",
     "output_type": "stream",
     "text": [
      "With known last position: ['sep', 'oct', 'nov', 'dec']\n",
      "Using len() to get last entry: ['sep', 'oct', 'nov', 'dec']\n",
      "Omitting ending index: ['sep', 'oct', 'nov', 'dec']\n"
     ]
    }
   ],
   "execution_count": 41
  }
 ],
 "metadata": {
  "kernelspec": {
   "display_name": "Python 3",
   "language": "python",
   "name": "python3"
  },
  "language_info": {
   "codemirror_mode": {
    "name": "ipython",
    "version": 2
   },
   "file_extension": ".py",
   "mimetype": "text/x-python",
   "name": "python",
   "nbconvert_exporter": "python",
   "pygments_lexer": "ipython2",
   "version": "2.7.6"
  }
 },
 "nbformat": 4,
 "nbformat_minor": 5
}
