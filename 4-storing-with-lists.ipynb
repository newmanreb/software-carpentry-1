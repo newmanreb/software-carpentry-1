{
 "cells": [
  {
   "cell_type": "code",
   "id": "initial_id",
   "metadata": {
    "collapsed": true,
    "jupyter": {
     "is_executing": true
    }
   },
   "source": [
    "mild_salsa = ['peppers', 'onions', 'cilantro', 'tomatoes']\n",
    "hot_salsa = list(mild_salsa)\n",
    "hot_salsa[0] = 'hot peppers'\n",
    "print('Ingredients in mild salsa:', mild_salsa)\n",
    "print('Ingredients in hot salsa:', hot_salsa)"
   ],
   "outputs": [],
   "execution_count": null
  }
 ],
 "metadata": {
  "kernelspec": {
   "display_name": "Python 3",
   "language": "python",
   "name": "python3"
  },
  "language_info": {
   "codemirror_mode": {
    "name": "ipython",
    "version": 2
   },
   "file_extension": ".py",
   "mimetype": "text/x-python",
   "name": "python",
   "nbconvert_exporter": "python",
   "pygments_lexer": "ipython2",
   "version": "2.7.6"
  }
 },
 "nbformat": 4,
 "nbformat_minor": 5
}
