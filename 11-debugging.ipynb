{
 "cells": [
  {
   "metadata": {},
   "cell_type": "markdown",
   "source": [
    "## Know What It's Supposed to Do\n",
    "- Be able to tell the correct output from incorrect\n",
    "- If we can write a test case for the failing case, we're ready to start debugging\n",
    "- Scientific software is different from commercial because there aren't always known outputs\n",
    "#### In practice, scientists:\n",
    "1. Test with simplified data. Calculate statistics for a single record or two identical records before a real data set\n",
    "2. Test a simplified case. Hold factors constant and define variables\n",
    "3. Compare to an oracle. A test oracle is something whose results are trusted, such as experimental data, older programme, or human expert\n",
    "4. Check conservation laws. The number of patients shouldn't change, for example\n",
    "5. Visualise. Use simple visualisations to check the science and the correctness\n",
    "\n",
    "## Make it Fail Every Time\n",
    "- We can only debug when something fails\n",
    "- Check that code is 'plugged in' - we're actually exercising the problem that we think we are\n",
    "- Don't case a bug to find you've been calling in the wrong dataset all along or are using the wrong software version\n",
    "\n",
    "## Make It Fail Fast\n",
    "- If you only get 1 bug to surface every 20 minutes, you can only do 3 experiments per hour\n",
    "- Localise the failure to the smallest possible region of code:\n",
    "1. The smaller the gap between cause and effect, the easier the connection is to find. Check whether things are OK in the middle, then concentrate on halves\n",
    "2. Every line of code that isn't run as part of a test means more things to worry about\n",
    "\n",
    "## Change One Thing at a Time, For a Reason\n",
    "- Don't replace random chunks of code and then wonder what changed\n",
    "- Change one thing at a time to test fixes or see if changing small things can make the bug go away\n",
    "- Re-run tests immediately after making changes\n",
    "\n",
    "## Keep Track of What You've Done\n",
    "- For reproducibility and to not waste time\n",
    "- When it's time to ask for help, clear records of changes can help for clear explanations\n",
    "\n",
    "## Be Humble\n",
    "- If you can't fix a bug by yourself in 10 minutes, just ask for help!\n",
    "- Explaining the problem to someone else is often useful for problem solving\n",
    "- People who aren't emotionally invested in the code have a more objective view of it\n",
    "-\n"
   ],
   "id": "69e074d9c3889ab2"
  },
  {
   "metadata": {
    "ExecuteTime": {
     "end_time": "2025-03-27T10:24:44.431600Z",
     "start_time": "2025-03-27T10:24:44.415660Z"
    }
   },
   "cell_type": "code",
   "source": [
    "## Debugging example\n",
    "# Why does this function say that all patients have the same BMI?\n",
    "patients = [[70, 1.8], [80, 1.9], [150, 1.7]]\n",
    "\n",
    "def calculate_bmi(weight, height):\n",
    "    return weight / (height ** 2)\n",
    "\n",
    "for patient in patients:\n",
    "    weight, height = patient    # Remove the [0] from patient\n",
    "    bmi = calculate_bmi(weight, height)\n",
    "    print(\"Patient's BMI is:\", bmi)"
   ],
   "id": "7bee1913af3b2a2c",
   "outputs": [
    {
     "name": "stdout",
     "output_type": "stream",
     "text": [
      "Patient's BMI is: 21.604938271604937\n",
      "Patient's BMI is: 22.1606648199446\n",
      "Patient's BMI is: 51.90311418685122\n"
     ]
    }
   ],
   "execution_count": 4
  }
 ],
 "metadata": {
  "kernelspec": {
   "display_name": "Python 3",
   "language": "python",
   "name": "python3"
  },
  "language_info": {
   "codemirror_mode": {
    "name": "ipython",
    "version": 2
   },
   "file_extension": ".py",
   "mimetype": "text/x-python",
   "name": "python",
   "nbconvert_exporter": "python",
   "pygments_lexer": "ipython2",
   "version": "2.7.6"
  }
 },
 "nbformat": 4,
 "nbformat_minor": 5
}
