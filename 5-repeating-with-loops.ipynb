{
 "cells": [
  {
   "cell_type": "code",
   "id": "initial_id",
   "metadata": {
    "collapsed": true,
    "ExecuteTime": {
     "end_time": "2025-03-10T15:36:51.015096Z",
     "start_time": "2025-03-10T15:36:51.010522Z"
    }
   },
   "source": [
    "# Loop which updates a variable\n",
    "length = 0\n",
    "names = ['Curie', 'Darwin', 'Turing']\n",
    "for name in names:\n",
    "    length = length + 1\n",
    "print('There are', length, 'names in the list.')"
   ],
   "outputs": [
    {
     "name": "stdout",
     "output_type": "stream",
     "text": [
      "There are 3 names in the list.\n"
     ]
    }
   ],
   "execution_count": 3
  },
  {
   "metadata": {},
   "cell_type": "markdown",
   "source": [
    "## Range function\n",
    "#### Range can accept 3 parameters:\n",
    "- If one parameter is given, range generates a sequence of that length, starting at zero and incrementing by 1. For example, range(3) produces the numbers 0, 1, 2.\n",
    "- If two parameters are given, range starts at the first and ends just before the second, incrementing by one. For example, range(2, 5) produces 2, 3, 4.\n",
    "- If range is given 3 parameters, it starts at the first one, ends just before the second one, and increments by the third one. For example, range(3, 10, 2) produces 3, 5, 7, 9."
   ],
   "id": "51e1760c0ed2a2c"
  },
  {
   "metadata": {
    "ExecuteTime": {
     "end_time": "2025-03-10T15:40:00.263812Z",
     "start_time": "2025-03-10T15:40:00.260101Z"
    }
   },
   "cell_type": "code",
   "source": [
    "# Write a loop that prints the first 3 natural numbers.\n",
    "for i in range(1,4):\n",
    "    print(i)"
   ],
   "id": "3f75f9acd2704f50",
   "outputs": [
    {
     "name": "stdout",
     "output_type": "stream",
     "text": [
      "1\n",
      "2\n",
      "3\n"
     ]
    }
   ],
   "execution_count": 6
  },
  {
   "metadata": {
    "ExecuteTime": {
     "end_time": "2025-03-10T15:42:24.385135Z",
     "start_time": "2025-03-10T15:42:24.381158Z"
    }
   },
   "cell_type": "code",
   "source": [
    "# Write a loop that calculates 5 ** 3 using multiplication.\n",
    "value = 5\n",
    "for i in range(2):\n",
    "    value = value * 5\n",
    "print(value)"
   ],
   "id": "b0c409f96ce2f309",
   "outputs": [
    {
     "name": "stdout",
     "output_type": "stream",
     "text": [
      "125\n"
     ]
    }
   ],
   "execution_count": 15
  },
  {
   "metadata": {
    "ExecuteTime": {
     "end_time": "2025-03-10T15:44:05.957631Z",
     "start_time": "2025-03-10T15:44:05.952867Z"
    }
   },
   "cell_type": "code",
   "source": [
    "# Write a loop that calculates the sum of elements in a list by adding each element and printing the final value\n",
    "list = [124, 402, 36]\n",
    "total = 0\n",
    "for item in list:\n",
    "    total += item\n",
    "print(total)"
   ],
   "id": "4dc5ce6df8158a9b",
   "outputs": [
    {
     "name": "stdout",
     "output_type": "stream",
     "text": [
      "562\n"
     ]
    }
   ],
   "execution_count": 18
  },
  {
   "metadata": {
    "ExecuteTime": {
     "end_time": "2025-03-10T16:04:07.120097Z",
     "start_time": "2025-03-10T16:04:07.114373Z"
    }
   },
   "cell_type": "code",
   "source": [
    "# Use enumerate() to compute the value of y of any polynomial\n",
    "y = 0\n",
    "coefs = [2, 3, 4]\n",
    "x = 5\n",
    "for idx, coef in enumerate(coefs):\n",
    "    y = y + (coef * x**idx)\n",
    "print(y)\n"
   ],
   "id": "67df1612a379b213",
   "outputs": [
    {
     "name": "stdout",
     "output_type": "stream",
     "text": [
      "117\n"
     ]
    }
   ],
   "execution_count": 27
  }
 ],
 "metadata": {
  "kernelspec": {
   "display_name": "Python 3",
   "language": "python",
   "name": "python3"
  },
  "language_info": {
   "codemirror_mode": {
    "name": "ipython",
    "version": 2
   },
   "file_extension": ".py",
   "mimetype": "text/x-python",
   "name": "python",
   "nbconvert_exporter": "python",
   "pygments_lexer": "ipython2",
   "version": "2.7.6"
  }
 },
 "nbformat": 4,
 "nbformat_minor": 5
}
