{
 "cells": [
  {
   "cell_type": "code",
   "id": "initial_id",
   "metadata": {
    "collapsed": true
   },
   "source": [
    "## Index errors\n",
    "# This code has an intentional error\n",
    "def favourite_ice_cream():\n",
    "    ice_creams = [\n",
    "        'chocolate',\n",
    "        'vanilla',\n",
    "        'strawberry'\n",
    "    ]\n",
    "    print(ice_creams[3])\n",
    "\n",
    "favourite_ice_cream()\n",
    "\n",
    "# The error has 2 levels.\n",
    "# Ask yourself: How many levels does the traceback have? What is the function name where the\n",
    "# error occurred? On which line number in this function did the error occur? What is the type of\n",
    "# error? What is the error message?"
   ],
   "outputs": [],
   "execution_count": null
  },
  {
   "metadata": {
    "ExecuteTime": {
     "end_time": "2025-03-18T10:50:40.697070Z",
     "start_time": "2025-03-18T10:50:40.692342Z"
    }
   },
   "cell_type": "code",
   "source": [
    "## Syntax errors\n",
    "# When you forget a colon or add one space too many when indenting...\n",
    "# Indentation errors are a specific type of syntax error.\n",
    "def some_function()\n",
    "    msg = 'hello, world!'\n",
    "    print(msg)\n",
    "        return msg"
   ],
   "id": "e49968c0fe4c1849",
   "outputs": [
    {
     "ename": "SyntaxError",
     "evalue": "expected ':' (3556405145.py, line 3)",
     "output_type": "error",
     "traceback": [
      "\u001B[1;36m  Cell \u001B[1;32mIn[2], line 3\u001B[1;36m\u001B[0m\n\u001B[1;33m    def some_function()\u001B[0m\n\u001B[1;37m                       ^\u001B[0m\n\u001B[1;31mSyntaxError\u001B[0m\u001B[1;31m:\u001B[0m expected ':'\n"
     ]
    }
   ],
   "execution_count": 2
  },
  {
   "metadata": {
    "ExecuteTime": {
     "end_time": "2025-03-18T10:52:04.746168Z",
     "start_time": "2025-03-18T10:52:04.743031Z"
    }
   },
   "cell_type": "code",
   "source": [
    "# Tabs and spaces error\n",
    "def some_function():\n",
    "\tmsg = 'hello, world!'\n",
    "\tprint(msg)\n",
    "        return msg"
   ],
   "id": "8fd6da6f33d44849",
   "outputs": [
    {
     "ename": "TabError",
     "evalue": "inconsistent use of tabs and spaces in indentation (<string>, line 5)",
     "output_type": "error",
     "traceback": [
      "\u001B[1;36m  File \u001B[1;32m<string>:5\u001B[1;36m\u001B[0m\n\u001B[1;33m    return msg\u001B[0m\n\u001B[1;37m              ^\u001B[0m\n\u001B[1;31mTabError\u001B[0m\u001B[1;31m:\u001B[0m inconsistent use of tabs and spaces in indentation\n"
     ]
    }
   ],
   "execution_count": 4
  },
  {
   "metadata": {
    "ExecuteTime": {
     "end_time": "2025-03-24T11:07:41.432233Z",
     "start_time": "2025-03-24T11:07:40.586284Z"
    }
   },
   "cell_type": "code",
   "source": [
    "## Variable Name Errors\n",
    "# Occurs when you use a variable that does not exist\n",
    "print(a)"
   ],
   "id": "7eb747c30aba45fb",
   "outputs": [
    {
     "ename": "NameError",
     "evalue": "name 'a' is not defined",
     "output_type": "error",
     "traceback": [
      "\u001B[1;31m---------------------------------------------------------------------------\u001B[0m",
      "\u001B[1;31mNameError\u001B[0m                                 Traceback (most recent call last)",
      "Cell \u001B[1;32mIn[1], line 3\u001B[0m\n\u001B[0;32m      1\u001B[0m \u001B[38;5;66;03m## Variable Name Errors\u001B[39;00m\n\u001B[0;32m      2\u001B[0m \u001B[38;5;66;03m# Occurs when you use a variable that does not exist\u001B[39;00m\n\u001B[1;32m----> 3\u001B[0m \u001B[38;5;28mprint\u001B[39m(a)\n",
      "\u001B[1;31mNameError\u001B[0m: name 'a' is not defined"
     ]
    }
   ],
   "execution_count": 1
  },
  {
   "metadata": {
    "ExecuteTime": {
     "end_time": "2025-03-25T10:11:02.235973Z",
     "start_time": "2025-03-25T10:11:01.282194Z"
    }
   },
   "cell_type": "code",
   "source": [
    "## Index Errors\n",
    "# If you try to access an item in a list or string that does not exist\n",
    "letters = ['a', 'b', 'c']\n",
    "print('Letter #1 is', letters[0])\n",
    "print('Letter #2 is', letters[1])\n",
    "print('Letter #3 is', letters[2])\n",
    "print('Letter #4 is', letters[3])"
   ],
   "id": "fc29e170d7c226f4",
   "outputs": [
    {
     "name": "stdout",
     "output_type": "stream",
     "text": [
      "Letter #1 is a\n",
      "Letter #2 is b\n",
      "Letter #3 is c\n"
     ]
    },
    {
     "ename": "IndexError",
     "evalue": "list index out of range",
     "output_type": "error",
     "traceback": [
      "\u001B[1;31m---------------------------------------------------------------------------\u001B[0m",
      "\u001B[1;31mIndexError\u001B[0m                                Traceback (most recent call last)",
      "Cell \u001B[1;32mIn[2], line 7\u001B[0m\n\u001B[0;32m      5\u001B[0m \u001B[38;5;28mprint\u001B[39m(\u001B[38;5;124m'\u001B[39m\u001B[38;5;124mLetter #2 is\u001B[39m\u001B[38;5;124m'\u001B[39m, letters[\u001B[38;5;241m1\u001B[39m])\n\u001B[0;32m      6\u001B[0m \u001B[38;5;28mprint\u001B[39m(\u001B[38;5;124m'\u001B[39m\u001B[38;5;124mLetter #3 is\u001B[39m\u001B[38;5;124m'\u001B[39m, letters[\u001B[38;5;241m2\u001B[39m])\n\u001B[1;32m----> 7\u001B[0m \u001B[38;5;28mprint\u001B[39m(\u001B[38;5;124m'\u001B[39m\u001B[38;5;124mLetter #4 is\u001B[39m\u001B[38;5;124m'\u001B[39m, letters[\u001B[38;5;241m3\u001B[39m])\n",
      "\u001B[1;31mIndexError\u001B[0m: list index out of range"
     ]
    }
   ],
   "execution_count": 2
  },
  {
   "metadata": {
    "ExecuteTime": {
     "end_time": "2025-03-25T10:11:45.834150Z",
     "start_time": "2025-03-25T10:11:45.719125Z"
    }
   },
   "cell_type": "code",
   "source": [
    "## File Errors\n",
    "# If you try to read a file that cannot be found, error is FileNotFoundError\n",
    "file_handle = open('myfile.txt', 'r')"
   ],
   "id": "c38fa40c603623fc",
   "outputs": [
    {
     "ename": "FileNotFoundError",
     "evalue": "[Errno 2] No such file or directory: 'myfile.txt'",
     "output_type": "error",
     "traceback": [
      "\u001B[1;31m---------------------------------------------------------------------------\u001B[0m",
      "\u001B[1;31mFileNotFoundError\u001B[0m                         Traceback (most recent call last)",
      "Cell \u001B[1;32mIn[3], line 3\u001B[0m\n\u001B[0;32m      1\u001B[0m \u001B[38;5;66;03m## File Errors\u001B[39;00m\n\u001B[0;32m      2\u001B[0m \u001B[38;5;66;03m# If you try to read a file that cannot be found, error is FileNotFoundError\u001B[39;00m\n\u001B[1;32m----> 3\u001B[0m file_handle \u001B[38;5;241m=\u001B[39m \u001B[38;5;28mopen\u001B[39m(\u001B[38;5;124m'\u001B[39m\u001B[38;5;124mmyfile.txt\u001B[39m\u001B[38;5;124m'\u001B[39m, \u001B[38;5;124m'\u001B[39m\u001B[38;5;124mr\u001B[39m\u001B[38;5;124m'\u001B[39m)\n",
      "File \u001B[1;32m~\\.conda\\envs\\software-carpentry-1\\Lib\\site-packages\\IPython\\core\\interactiveshell.py:324\u001B[0m, in \u001B[0;36m_modified_open\u001B[1;34m(file, *args, **kwargs)\u001B[0m\n\u001B[0;32m    317\u001B[0m \u001B[38;5;28;01mif\u001B[39;00m file \u001B[38;5;129;01min\u001B[39;00m {\u001B[38;5;241m0\u001B[39m, \u001B[38;5;241m1\u001B[39m, \u001B[38;5;241m2\u001B[39m}:\n\u001B[0;32m    318\u001B[0m     \u001B[38;5;28;01mraise\u001B[39;00m \u001B[38;5;167;01mValueError\u001B[39;00m(\n\u001B[0;32m    319\u001B[0m         \u001B[38;5;124mf\u001B[39m\u001B[38;5;124m\"\u001B[39m\u001B[38;5;124mIPython won\u001B[39m\u001B[38;5;124m'\u001B[39m\u001B[38;5;124mt let you open fd=\u001B[39m\u001B[38;5;132;01m{\u001B[39;00mfile\u001B[38;5;132;01m}\u001B[39;00m\u001B[38;5;124m by default \u001B[39m\u001B[38;5;124m\"\u001B[39m\n\u001B[0;32m    320\u001B[0m         \u001B[38;5;124m\"\u001B[39m\u001B[38;5;124mas it is likely to crash IPython. If you know what you are doing, \u001B[39m\u001B[38;5;124m\"\u001B[39m\n\u001B[0;32m    321\u001B[0m         \u001B[38;5;124m\"\u001B[39m\u001B[38;5;124myou can use builtins\u001B[39m\u001B[38;5;124m'\u001B[39m\u001B[38;5;124m open.\u001B[39m\u001B[38;5;124m\"\u001B[39m\n\u001B[0;32m    322\u001B[0m     )\n\u001B[1;32m--> 324\u001B[0m \u001B[38;5;28;01mreturn\u001B[39;00m io_open(file, \u001B[38;5;241m*\u001B[39margs, \u001B[38;5;241m*\u001B[39m\u001B[38;5;241m*\u001B[39mkwargs)\n",
      "\u001B[1;31mFileNotFoundError\u001B[0m: [Errno 2] No such file or directory: 'myfile.txt'"
     ]
    }
   ],
   "execution_count": 3
  },
  {
   "metadata": {},
   "cell_type": "code",
   "source": [
    "# Error example\n",
    "for number in range(10):\n",
    "    # use a if the number is a multiple of 3, otherwise use b\n",
    "    if (Number % 3) == 0:\n",
    "        message = message + a\n",
    "    else:\n",
    "        message = message + 'b'\n",
    "print(message)\n",
    "# number is misspelled, message not defined, and a is not in quotes. Fixed below:"
   ],
   "id": "4bae3aa9405ceff2",
   "outputs": [],
   "execution_count": null
  },
  {
   "metadata": {
    "ExecuteTime": {
     "end_time": "2025-03-25T10:15:54.970548Z",
     "start_time": "2025-03-25T10:15:54.965881Z"
    }
   },
   "cell_type": "code",
   "source": [
    "message = ''\n",
    "for number in range(10):\n",
    "    # use a if the number is a multiple of 3, otherwise use b\n",
    "    if (number % 3) == 0:\n",
    "        message = message + 'a'\n",
    "    else:\n",
    "        message = message + 'b'\n",
    "print(message)"
   ],
   "id": "657cbcf3ae6857cd",
   "outputs": [
    {
     "name": "stdout",
     "output_type": "stream",
     "text": [
      "abbabbabba\n"
     ]
    }
   ],
   "execution_count": 5
  }
 ],
 "metadata": {
  "kernelspec": {
   "display_name": "Python 3",
   "language": "python",
   "name": "python3"
  },
  "language_info": {
   "codemirror_mode": {
    "name": "ipython",
    "version": 2
   },
   "file_extension": ".py",
   "mimetype": "text/x-python",
   "name": "python",
   "nbconvert_exporter": "python",
   "pygments_lexer": "ipython2",
   "version": "2.7.6"
  }
 },
 "nbformat": 4,
 "nbformat_minor": 5
}
