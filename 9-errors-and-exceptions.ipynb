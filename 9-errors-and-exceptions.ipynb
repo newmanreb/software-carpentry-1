{
 "cells": [
  {
   "cell_type": "code",
   "id": "initial_id",
   "metadata": {
    "collapsed": true
   },
   "source": [
    "## Index errors\n",
    "# This code has an intentional error\n",
    "def favourite_ice_cream():\n",
    "    ice_creams = [\n",
    "        'chocolate',\n",
    "        'vanilla',\n",
    "        'strawberry'\n",
    "    ]\n",
    "    print(ice_creams[3])\n",
    "\n",
    "favourite_ice_cream()\n",
    "\n",
    "# The error has 2 levels.\n",
    "# Ask yourself: How many levels does the traceback have? What is the function name where the\n",
    "# error occurred? On which line number in this function did the error occur? What is the type of\n",
    "# error? What is the error message?"
   ],
   "outputs": [],
   "execution_count": null
  },
  {
   "metadata": {
    "ExecuteTime": {
     "end_time": "2025-03-18T10:50:40.697070Z",
     "start_time": "2025-03-18T10:50:40.692342Z"
    }
   },
   "cell_type": "code",
   "source": [
    "## Syntax errors\n",
    "# When you forget a colon or add one space too many when indenting...\n",
    "# Indentation errors are a specific type of syntax error.\n",
    "def some_function()\n",
    "    msg = 'hello, world!'\n",
    "    print(msg)\n",
    "        return msg"
   ],
   "id": "e49968c0fe4c1849",
   "outputs": [
    {
     "ename": "SyntaxError",
     "evalue": "expected ':' (3556405145.py, line 3)",
     "output_type": "error",
     "traceback": [
      "\u001B[1;36m  Cell \u001B[1;32mIn[2], line 3\u001B[1;36m\u001B[0m\n\u001B[1;33m    def some_function()\u001B[0m\n\u001B[1;37m                       ^\u001B[0m\n\u001B[1;31mSyntaxError\u001B[0m\u001B[1;31m:\u001B[0m expected ':'\n"
     ]
    }
   ],
   "execution_count": 2
  },
  {
   "metadata": {
    "ExecuteTime": {
     "end_time": "2025-03-18T10:52:04.746168Z",
     "start_time": "2025-03-18T10:52:04.743031Z"
    }
   },
   "cell_type": "code",
   "source": [
    "# Tabs and spaces error\n",
    "def some_function():\n",
    "\tmsg = 'hello, world!'\n",
    "\tprint(msg)\n",
    "        return msg"
   ],
   "id": "8fd6da6f33d44849",
   "outputs": [
    {
     "ename": "TabError",
     "evalue": "inconsistent use of tabs and spaces in indentation (<string>, line 5)",
     "output_type": "error",
     "traceback": [
      "\u001B[1;36m  File \u001B[1;32m<string>:5\u001B[1;36m\u001B[0m\n\u001B[1;33m    return msg\u001B[0m\n\u001B[1;37m              ^\u001B[0m\n\u001B[1;31mTabError\u001B[0m\u001B[1;31m:\u001B[0m inconsistent use of tabs and spaces in indentation\n"
     ]
    }
   ],
   "execution_count": 4
  },
  {
   "metadata": {},
   "cell_type": "code",
   "outputs": [],
   "execution_count": null,
   "source": "## Variable Name Errors\n",
   "id": "7eb747c30aba45fb"
  }
 ],
 "metadata": {
  "kernelspec": {
   "display_name": "Python 3",
   "language": "python",
   "name": "python3"
  },
  "language_info": {
   "codemirror_mode": {
    "name": "ipython",
    "version": 2
   },
   "file_extension": ".py",
   "mimetype": "text/x-python",
   "name": "python",
   "nbconvert_exporter": "python",
   "pygments_lexer": "ipython2",
   "version": "2.7.6"
  }
 },
 "nbformat": 4,
 "nbformat_minor": 5
}
