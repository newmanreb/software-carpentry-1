{
 "cells": [
  {
   "cell_type": "code",
   "id": "initial_id",
   "metadata": {
    "collapsed": true
   },
   "source": [
    "## Index errors\n",
    "# This code has an intentional error\n",
    "def favourite_ice_cream():\n",
    "    ice_creams = [\n",
    "        'chocolate',\n",
    "        'vanilla',\n",
    "        'strawberry'\n",
    "    ]\n",
    "    print(ice_creams[3])\n",
    "\n",
    "favourite_ice_cream()\n",
    "\n",
    "# The error has 2 levels.\n",
    "# Ask yourself: How many levels does the traceback have? What is the function name where the\n",
    "# error occurred? On which line number in this function did the error occur? What is the type of\n",
    "# error? What is the error message?"
   ],
   "outputs": [],
   "execution_count": null
  },
  {
   "metadata": {
    "ExecuteTime": {
     "end_time": "2025-03-18T10:50:40.697070Z",
     "start_time": "2025-03-18T10:50:40.692342Z"
    }
   },
   "cell_type": "code",
   "source": [
    "## Syntax errors\n",
    "# When you forget a colon or add one space too many when indenting...\n",
    "# Indentation errors are a specific type of syntax error.\n",
    "def some_function()\n",
    "    msg = 'hello, world!'\n",
    "    print(msg)\n",
    "        return msg"
   ],
   "id": "e49968c0fe4c1849",
   "outputs": [
    {
     "ename": "SyntaxError",
     "evalue": "expected ':' (3556405145.py, line 3)",
     "output_type": "error",
     "traceback": [
      "\u001B[1;36m  Cell \u001B[1;32mIn[2], line 3\u001B[1;36m\u001B[0m\n\u001B[1;33m    def some_function()\u001B[0m\n\u001B[1;37m                       ^\u001B[0m\n\u001B[1;31mSyntaxError\u001B[0m\u001B[1;31m:\u001B[0m expected ':'\n"
     ]
    }
   ],
   "execution_count": 2
  },
  {
   "metadata": {
    "ExecuteTime": {
     "end_time": "2025-03-18T10:52:04.746168Z",
     "start_time": "2025-03-18T10:52:04.743031Z"
    }
   },
   "cell_type": "code",
   "source": [
    "# Tabs and spaces error\n",
    "def some_function():\n",
    "\tmsg = 'hello, world!'\n",
    "\tprint(msg)\n",
    "        return msg"
   ],
   "id": "8fd6da6f33d44849",
   "outputs": [
    {
     "ename": "TabError",
     "evalue": "inconsistent use of tabs and spaces in indentation (<string>, line 5)",
     "output_type": "error",
     "traceback": [
      "\u001B[1;36m  File \u001B[1;32m<string>:5\u001B[1;36m\u001B[0m\n\u001B[1;33m    return msg\u001B[0m\n\u001B[1;37m              ^\u001B[0m\n\u001B[1;31mTabError\u001B[0m\u001B[1;31m:\u001B[0m inconsistent use of tabs and spaces in indentation\n"
     ]
    }
   ],
   "execution_count": 4
  },
  {
   "metadata": {
    "ExecuteTime": {
     "end_time": "2025-03-24T11:07:41.432233Z",
     "start_time": "2025-03-24T11:07:40.586284Z"
    }
   },
   "cell_type": "code",
   "source": [
    "## Variable Name Errors\n",
    "# Occurs when you use a variable that does not exist\n",
    "print(a)"
   ],
   "id": "7eb747c30aba45fb",
   "outputs": [
    {
     "ename": "NameError",
     "evalue": "name 'a' is not defined",
     "output_type": "error",
     "traceback": [
      "\u001B[1;31m---------------------------------------------------------------------------\u001B[0m",
      "\u001B[1;31mNameError\u001B[0m                                 Traceback (most recent call last)",
      "Cell \u001B[1;32mIn[1], line 3\u001B[0m\n\u001B[0;32m      1\u001B[0m \u001B[38;5;66;03m## Variable Name Errors\u001B[39;00m\n\u001B[0;32m      2\u001B[0m \u001B[38;5;66;03m# Occurs when you use a variable that does not exist\u001B[39;00m\n\u001B[1;32m----> 3\u001B[0m \u001B[38;5;28mprint\u001B[39m(a)\n",
      "\u001B[1;31mNameError\u001B[0m: name 'a' is not defined"
     ]
    }
   ],
   "execution_count": 1
  },
  {
   "metadata": {},
   "cell_type": "code",
   "outputs": [],
   "execution_count": null,
   "source": "## Index Errors\n",
   "id": "fc29e170d7c226f4"
  }
 ],
 "metadata": {
  "kernelspec": {
   "display_name": "Python 3",
   "language": "python",
   "name": "python3"
  },
  "language_info": {
   "codemirror_mode": {
    "name": "ipython",
    "version": 2
   },
   "file_extension": ".py",
   "mimetype": "text/x-python",
   "name": "python",
   "nbconvert_exporter": "python",
   "pygments_lexer": "ipython2",
   "version": "2.7.6"
  }
 },
 "nbformat": 4,
 "nbformat_minor": 5
}
