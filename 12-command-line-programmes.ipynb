{
 "cells": [
  {
   "metadata": {},
   "cell_type": "markdown",
   "source": [
    "## Command line programmes\n",
    "#### Make your programmes work like Unix command-line tools to use it in a pipeline or run it in a shell script"
   ],
   "id": "ee7622df2c26464e"
  },
  {
   "metadata": {},
   "cell_type": "raw",
   "source": [
    "# Commands\n",
    "python code/readings_04.py --mean inflammation-01.csv\n",
    "head -4 data/inflammation-01.csv | python code/readings_06.py --min\n",
    "python code/readings_04.py --max inflammation-*.csv\n"
   ],
   "id": "1230f8911d62ef7e"
  },
  {
   "metadata": {
    "ExecuteTime": {
     "end_time": "2025-03-27T10:40:36.887416Z",
     "start_time": "2025-03-27T10:40:36.873565Z"
    }
   },
   "cell_type": "code",
   "source": [
    "## Command-Line Arguments\n",
    "# Create a file with our python code in, then use the bash shell to run the code\n",
    "import sys\n",
    "print('version is', sys.version)\n",
    "# Run from command line with python code/sys_version.py"
   ],
   "id": "fdd33f33a3f76ceb",
   "outputs": [
    {
     "name": "stdout",
     "output_type": "stream",
     "text": [
      "version is 3.12.9 | packaged by Anaconda, Inc. | (main, Feb  6 2025, 13:04:33) [Clang 14.0.6 ]\n"
     ]
    }
   ],
   "execution_count": 1
  },
  {
   "metadata": {},
   "cell_type": "code",
   "outputs": [],
   "execution_count": null,
   "source": [
    "if __name__ == '__main__':\n",
    "    main()\n",
    "\n",
    "# The above prevents unintentional execution of scripts when importing modules\n",
    "# When a python file is run directly, __name__ will be set to __main__\n",
    "# When a python file is imported, it will not be set to __main__ so function main() will not be called"
   ],
   "id": "b87b8b58740225f2"
  }
 ],
 "metadata": {
  "kernelspec": {
   "display_name": "Python 3",
   "language": "python",
   "name": "python3"
  },
  "language_info": {
   "codemirror_mode": {
    "name": "ipython",
    "version": 2
   },
   "file_extension": ".py",
   "mimetype": "text/x-python",
   "name": "python",
   "nbconvert_exporter": "python",
   "pygments_lexer": "ipython2",
   "version": "2.7.6"
  }
 },
 "nbformat": 4,
 "nbformat_minor": 5
}
