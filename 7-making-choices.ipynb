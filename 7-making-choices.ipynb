{
 "cells": [
  {
   "cell_type": "code",
   "id": "initial_id",
   "metadata": {
    "collapsed": true,
    "ExecuteTime": {
     "end_time": "2025-03-12T14:34:12.432889Z",
     "start_time": "2025-03-12T14:34:12.428159Z"
    }
   },
   "source": [
    "# Ask Python to take different actions depending on a condition\n",
    "num = 37\n",
    "print('before conditional...')\n",
    "if num > 100:\n",
    "    print('greater')\n",
    "else:\n",
    "    print('not greater')\n",
    "print('...after conditional')"
   ],
   "outputs": [
    {
     "name": "stdout",
     "output_type": "stream",
     "text": [
      "before conditional...\n",
      "not greater\n",
      "...after conditional\n"
     ]
    }
   ],
   "execution_count": 4
  },
  {
   "metadata": {
    "ExecuteTime": {
     "end_time": "2025-03-12T14:35:54.886947Z",
     "start_time": "2025-03-12T14:35:54.882419Z"
    }
   },
   "cell_type": "code",
   "source": [
    "# Use elif, short for else if, to chain tests together\n",
    "num = -3\n",
    "\n",
    "if num > 0:\n",
    "    print(num, 'is positive')\n",
    "elif num == 0:\n",
    "    print(num, 'is zero')\n",
    "else:\n",
    "    print(num, 'is negative')"
   ],
   "id": "5dca0a9adbf210",
   "outputs": [
    {
     "name": "stdout",
     "output_type": "stream",
     "text": [
      "-3 is negative\n"
     ]
    }
   ],
   "execution_count": 5
  },
  {
   "metadata": {
    "ExecuteTime": {
     "end_time": "2025-03-12T15:18:21.534233Z",
     "start_time": "2025-03-12T15:18:21.530538Z"
    }
   },
   "cell_type": "code",
   "source": [
    "# Combine tests using and, which is only true if both parts are true\n",
    "if (1 > 0) and (-1 >= 0):\n",
    "    print('both parts are true')\n",
    "else:\n",
    "    print('at least one part is false')"
   ],
   "id": "796874ebdd2bd2",
   "outputs": [
    {
     "name": "stdout",
     "output_type": "stream",
     "text": [
      "at least one part is false\n"
     ]
    }
   ],
   "execution_count": 58
  },
  {
   "metadata": {
    "ExecuteTime": {
     "end_time": "2025-03-12T14:38:06.788103Z",
     "start_time": "2025-03-12T14:38:06.784008Z"
    }
   },
   "cell_type": "code",
   "source": [
    "# Combine tests using or, which is true if at least one part is true\n",
    "if (1 < 0) or (1 >= 0):\n",
    "    print('at least one test is true')"
   ],
   "id": "162f0f248d3182b4",
   "outputs": [
    {
     "name": "stdout",
     "output_type": "stream",
     "text": [
      "at least one test is true\n"
     ]
    }
   ],
   "execution_count": 7
  },
  {
   "metadata": {
    "ExecuteTime": {
     "end_time": "2025-03-12T14:52:13.580121Z",
     "start_time": "2025-03-12T14:52:13.573816Z"
    }
   },
   "cell_type": "code",
   "source": [
    "## Checking our Data\n",
    "\n",
    "import numpy\n",
    "data = numpy.loadtxt(fname = r'C:\\Users\\Bekah Work\\python\\software-carpentry-1\\data\\inflammation-01.csv', delimiter=',')\n",
    "\n",
    "# Report maximum daily inflammation data which increased by 1 each day\n",
    "max_inflammation_0 = numpy.amax(data, axis=0)[0]\n",
    "max_inflammation_20 = numpy.amax(data, axis=0)[20]\n",
    "\n",
    "if max_inflammation_0 == 0 and max_inflammation_20 == 20:\n",
    "    print('Suspicious looking data!')"
   ],
   "id": "aeba4d46e00e3637",
   "outputs": [
    {
     "name": "stdout",
     "output_type": "stream",
     "text": [
      "Suspicious looking data!\n"
     ]
    }
   ],
   "execution_count": 25
  },
  {
   "metadata": {
    "ExecuteTime": {
     "end_time": "2025-03-12T14:55:09.918053Z",
     "start_time": "2025-03-12T14:55:09.910524Z"
    }
   },
   "cell_type": "code",
   "source": [
    "# In the third dataset, the minima were all zero. Check for this with elif\n",
    "import numpy\n",
    "data = numpy.loadtxt(fname = r'C:\\Users\\Bekah Work\\python\\software-carpentry-1\\data\\inflammation-01.csv', delimiter=',')\n",
    "\n",
    "max_inflammation_0 = numpy.amax(data, axis=0)[0]\n",
    "max_inflammation_20 = numpy.amax(data, axis=0)[20]\n",
    "\n",
    "if max_inflammation_0 == 0 and max_inflammation_20 == 20:\n",
    "    print('Suspicious looking data!')\n",
    "elif numpy.sum(numpy.amin(data, axis=0)) == 0:\n",
    "    print('Minima add up to zero!')\n",
    "else:\n",
    "    print('Seems ok')"
   ],
   "id": "7c67f653bf63888d",
   "outputs": [
    {
     "name": "stdout",
     "output_type": "stream",
     "text": [
      "Suspicious looking data!\n"
     ]
    }
   ],
   "execution_count": 34
  },
  {
   "metadata": {
    "ExecuteTime": {
     "end_time": "2025-03-12T14:56:21.238019Z",
     "start_time": "2025-03-12T14:56:21.233599Z"
    }
   },
   "cell_type": "code",
   "source": [
    "# Consider this code, what letter gets printed?\n",
    "if 4 > 5:\n",
    "    print('A')\n",
    "elif 4 == 5:\n",
    "    print('B')\n",
    "elif 4 < 5:\n",
    "    print('C')"
   ],
   "id": "4f8dd82280f9d27a",
   "outputs": [
    {
     "name": "stdout",
     "output_type": "stream",
     "text": [
      "C\n"
     ]
    }
   ],
   "execution_count": 35
  },
  {
   "metadata": {
    "ExecuteTime": {
     "end_time": "2025-03-12T15:06:58.854799Z",
     "start_time": "2025-03-12T15:06:58.848798Z"
    }
   },
   "cell_type": "code",
   "source": [
    "# Any value can be used in an if or elif\n",
    "input = []\n",
    "if input == '':\n",
    "    print('empty string is true')\n",
    "elif input == 'word':\n",
    "    print('word is true')\n",
    "elif input == []:\n",
    "    print('empty list is true')\n",
    "elif input == [1, 2, 3]:\n",
    "    print('non empty list is true')\n",
    "elif input == 0:\n",
    "    print('zero is true')\n",
    "else:\n",
    "    print('input is something else entirely')\n"
   ],
   "id": "ff9cfb71eaaf4e22",
   "outputs": [
    {
     "name": "stdout",
     "output_type": "stream",
     "text": [
      "empty list is true\n"
     ]
    }
   ],
   "execution_count": 42
  },
  {
   "metadata": {
    "ExecuteTime": {
     "end_time": "2025-03-12T15:08:17.866215Z",
     "start_time": "2025-03-12T15:08:17.861558Z"
    }
   },
   "cell_type": "code",
   "source": [
    "if not '':\n",
    "    print('empty string is true')\n",
    "if not 'word':\n",
    "    print('word is not true')\n",
    "if not not True:\n",
    "    print('not not True is true')"
   ],
   "id": "b85c5607134c7ce1",
   "outputs": [
    {
     "name": "stdout",
     "output_type": "stream",
     "text": [
      "empty string is true\n",
      "not not True is true\n"
     ]
    }
   ],
   "execution_count": 43
  },
  {
   "metadata": {
    "ExecuteTime": {
     "end_time": "2025-03-12T15:14:01.006337Z",
     "start_time": "2025-03-12T15:14:01.000639Z"
    }
   },
   "cell_type": "code",
   "source": [
    "# Conditions that print true if a variable is within 10% of the variable b\n",
    "b = 10\n",
    "a = 10.1\n",
    "\n",
    "if a <= b+(b*.1) and a >= b-(b*.1):\n",
    "    print('yes?')\n",
    "else:\n",
    "    print('no')\n",
    "\n",
    "# Easier way 1\n",
    "if abs(a - b) <= 0.1 * abs(b):\n",
    "    print('True')\n",
    "else:\n",
    "    print('False')\n",
    "\n",
    "# Easier way 2 - Booleans working for me\n",
    "print(abs(a - b) <= 0.1 * abs(b))"
   ],
   "id": "6c8d0578ff57234c",
   "outputs": [
    {
     "name": "stdout",
     "output_type": "stream",
     "text": [
      "yes?\n",
      "True\n",
      "True\n"
     ]
    }
   ],
   "execution_count": 54
  },
  {
   "metadata": {
    "ExecuteTime": {
     "end_time": "2025-03-12T15:15:56.902382Z",
     "start_time": "2025-03-12T15:15:56.898707Z"
    }
   },
   "cell_type": "code",
   "source": [
    "# In place operators\n",
    "x = 3\n",
    "x *= 3  # Multiply x by 3 assigning result back to x\n",
    "print(x)"
   ],
   "id": "79842b9e1b693ac6",
   "outputs": [
    {
     "name": "stdout",
     "output_type": "stream",
     "text": [
      "9\n"
     ]
    }
   ],
   "execution_count": 56
  },
  {
   "metadata": {
    "ExecuteTime": {
     "end_time": "2025-03-12T15:17:49.490528Z",
     "start_time": "2025-03-12T15:17:49.485547Z"
    }
   },
   "cell_type": "code",
   "source": [
    "# Code to add together numbers based on if they're negative or positive\n",
    "positive_sum = 0\n",
    "negative_sum = 0\n",
    "test_list = [3, 4, 6, 1, -1, -5, 0, 7, -8]\n",
    "for num in test_list:\n",
    "    if num > 0:\n",
    "        positive_sum += num\n",
    "    elif num == 0:\n",
    "        pass\n",
    "    else:\n",
    "        negative_sum += num\n",
    "print(positive_sum, negative_sum)"
   ],
   "id": "b1fda14f0637654b",
   "outputs": [
    {
     "name": "stdout",
     "output_type": "stream",
     "text": [
      "21 -14\n"
     ]
    }
   ],
   "execution_count": 57
  },
  {
   "metadata": {
    "ExecuteTime": {
     "end_time": "2025-03-12T15:27:16.789465Z",
     "start_time": "2025-03-12T15:27:16.783701Z"
    }
   },
   "cell_type": "code",
   "source": [
    "## Sorting a list into buckets\n",
    "filenames = ['inflammation-01.csv',\n",
    "             'myscript.py',\n",
    "             'inflammation-02.csv',\n",
    "             'small-01.csv',\n",
    "             'small-02.csv']\n",
    "large_files = []\n",
    "small_files = []\n",
    "python_files = []\n",
    "other_files = []\n",
    "\n",
    "for file in filenames:\n",
    "    if file.startswith('inflamm'):\n",
    "        large_files.append(file)\n",
    "    elif file.startswith('small'):\n",
    "        small_files.append(file)\n",
    "    elif file.endswith('py'):\n",
    "        python_files.append(file)\n",
    "    else:\n",
    "        other_files.append(file)\n",
    "print(\"Large files:\", large_files)\n",
    "print(\"Small files:\", small_files)\n",
    "print(\"Python files:\", python_files)\n",
    "print(\"Other files:\", other_files)"
   ],
   "id": "48dbca6507426b0f",
   "outputs": [
    {
     "name": "stdout",
     "output_type": "stream",
     "text": [
      "Large files: ['inflammation-01.csv', 'inflammation-02.csv']\n",
      "Small files: ['small-01.csv', 'small-02.csv']\n",
      "Python files: ['myscript.py']\n",
      "Other files: []\n"
     ]
    }
   ],
   "execution_count": 60
  },
  {
   "metadata": {
    "ExecuteTime": {
     "end_time": "2025-03-12T15:51:20.868074Z",
     "start_time": "2025-03-12T15:51:20.861544Z"
    }
   },
   "cell_type": "code",
   "source": [
    "# Write a loop that counts the number of vowels in a character string\n",
    "string = 'Example string here! Lots of letters'\n",
    "vowels = 0\n",
    "consonants = 0\n",
    "for char in string.lower():\n",
    "    if char == 'a' or char == 'e' or char == 'i' or char == 'o' or char == 'u':\n",
    "        vowels += 1\n",
    "    elif char == ' ':\n",
    "        vowels += 0\n",
    "        consonants += 0\n",
    "    else:\n",
    "        consonants += 1\n",
    "print(\"Vowel count:\", vowels)\n",
    "print(\"Consonant count:\", consonants)\n",
    "\n",
    "# Another way\n",
    "vowelbank = 'aeiou'\n",
    "consonantbank = 'bcdfghjklmnpqrstvxxyz'\n",
    "count = 0\n",
    "consonants_count = 0\n",
    "for char in string.lower():\n",
    "    if char in vowelbank:\n",
    "        count += 1\n",
    "    if char in consonantbank:\n",
    "        consonants_count += 1\n",
    "print('Vowels count:', count)\n",
    "print('Consonants count:', consonants_count)"
   ],
   "id": "c07e40fa116f8095",
   "outputs": [
    {
     "name": "stdout",
     "output_type": "stream",
     "text": [
      "Vowel count: 10\n",
      "Consonant count: 21\n",
      "Vowels count: 10\n",
      "Consonants count: 20\n"
     ]
    }
   ],
   "execution_count": 77
  }
 ],
 "metadata": {
  "kernelspec": {
   "display_name": "Python 3",
   "language": "python",
   "name": "python3"
  },
  "language_info": {
   "codemirror_mode": {
    "name": "ipython",
    "version": 2
   },
   "file_extension": ".py",
   "mimetype": "text/x-python",
   "name": "python",
   "nbconvert_exporter": "python",
   "pygments_lexer": "ipython2",
   "version": "2.7.6"
  }
 },
 "nbformat": 4,
 "nbformat_minor": 5
}
