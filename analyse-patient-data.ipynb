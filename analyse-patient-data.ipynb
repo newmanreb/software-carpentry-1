{
 "cells": [
  {
   "cell_type": "code",
   "execution_count": 12,
   "metadata": {},
   "outputs": [
    {
     "name": "stdout",
     "output_type": "stream",
     "text": [
      "[[0. 0. 1. ... 3. 0. 0.]\n",
      " [0. 1. 2. ... 1. 0. 1.]\n",
      " [0. 1. 1. ... 2. 1. 1.]\n",
      " ...\n",
      " [0. 1. 1. ... 1. 1. 1.]\n",
      " [0. 0. 0. ... 0. 2. 0.]\n",
      " [0. 0. 1. ... 1. 1. 0.]]\n",
      "<class 'numpy.ndarray'>\n",
      "float64\n",
      "(60, 40)\n",
      "first value in data: 0.0\n",
      "middle value in data: 16.0\n"
     ]
    }
   ],
   "source": [
    "# requires you to install numpy first with 'pip3 install numpy' in terminal\n",
    "import numpy\n",
    "\n",
    "data = numpy.loadtxt(fname='data/inflammation-01.csv', delimiter=',')\n",
    "print(data)\n",
    "\n",
    "# print different attributes of the 'data' object just defined \n",
    "print(type(data))\n",
    "print(data.dtype)\n",
    "print(data.shape)\n",
    "print('first value in data:', data[0,0])\n",
    "print('middle value in data:', data[29,19]) # assesses row 30, column 20"
   ]
  },
  {
   "cell_type": "code",
   "execution_count": 17,
   "metadata": {},
   "outputs": [
    {
     "name": "stdout",
     "output_type": "stream",
     "text": [
      "patients 1 through 4:\n",
      "[[0. 0. 1. 3. 1. 2. 4. 7. 8. 3.]\n",
      " [0. 1. 2. 1. 2. 1. 3. 2. 2. 6.]\n",
      " [0. 1. 1. 3. 3. 2. 6. 2. 5. 9.]\n",
      " [0. 0. 2. 0. 4. 2. 2. 1. 6. 7.]]\n",
      "patients 6 through 10:\n",
      "[[0. 0. 1. 2. 2. 4. 2. 1. 6. 4.]\n",
      " [0. 0. 2. 2. 4. 2. 2. 5. 5. 8.]\n",
      " [0. 0. 1. 2. 3. 1. 2. 3. 5. 3.]\n",
      " [0. 0. 0. 3. 1. 5. 6. 5. 5. 8.]\n",
      " [0. 1. 1. 2. 1. 3. 5. 3. 5. 8.]]\n",
      "small is:\n",
      "[[2. 3. 0. 0.]\n",
      " [1. 1. 0. 1.]\n",
      " [2. 2. 1. 1.]]\n"
     ]
    }
   ],
   "source": [
    "# Slicing data\n",
    "# select the first 10 colums (days) for the first 4 patients\n",
    "# 0:4 means start at index 0 and go up to, but not including, 4. \n",
    "print('patients 1 through 4:')\n",
    "print(data[0:4, 0:10])\n",
    "\n",
    "# 5:10 therefore means, starting from patient 6 to 10, or index 5 to 9 inclusive.\n",
    "print('patients 6 through 10:')\n",
    "print(data[5:10, 0:10])\n",
    "\n",
    "# the following selects rows 0 through 2 and columns 36 to the end \n",
    "small = data[:3, 36:]\n",
    "print('small is:')\n",
    "print(small)"
   ]
  },
  {
   "cell_type": "code",
   "execution_count": 18,
   "metadata": {},
   "outputs": [
    {
     "name": "stdout",
     "output_type": "stream",
     "text": [
      "6.14875\n"
     ]
    }
   ],
   "source": [
    "# Analysing data \n",
    "\n",
    "# find the average inflammation for all patients on all days\n",
    "print(numpy.mean(data))"
   ]
  },
  {
   "cell_type": "code",
   "execution_count": 20,
   "metadata": {},
   "outputs": [
    {
     "name": "stdout",
     "output_type": "stream",
     "text": [
      "Fri Oct 18 12:32:07 2024\n"
     ]
    }
   ],
   "source": [
    "# Example of a function that doesn't have any input/arguments\n",
    "import time\n",
    "print(time.ctime())"
   ]
  }
 ],
 "metadata": {
  "kernelspec": {
   "display_name": "conda1",
   "language": "python",
   "name": "python3"
  },
  "language_info": {
   "codemirror_mode": {
    "name": "ipython",
    "version": 3
   },
   "file_extension": ".py",
   "mimetype": "text/x-python",
   "name": "python",
   "nbconvert_exporter": "python",
   "pygments_lexer": "ipython3",
   "version": "3.12.7"
  }
 },
 "nbformat": 4,
 "nbformat_minor": 2
}
