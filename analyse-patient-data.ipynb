{
 "cells": [
  {
   "cell_type": "code",
   "execution_count": 2,
   "metadata": {},
   "outputs": [
    {
     "name": "stdout",
     "output_type": "stream",
     "text": [
      "[[0. 0. 1. ... 3. 0. 0.]\n",
      " [0. 1. 2. ... 1. 0. 1.]\n",
      " [0. 1. 1. ... 2. 1. 1.]\n",
      " ...\n",
      " [0. 1. 1. ... 1. 1. 1.]\n",
      " [0. 0. 0. ... 0. 2. 0.]\n",
      " [0. 0. 1. ... 1. 1. 0.]]\n",
      "<class 'numpy.ndarray'>\n",
      "float64\n",
      "(60, 40)\n",
      "first value in data: 0.0\n",
      "middle value in data: 16.0\n"
     ]
    }
   ],
   "source": [
    "# requires you to install numpy first with 'pip3 install numpy' in terminal\n",
    "# on mac I had to 'conda install numpy' in the conda environment\n",
    "import numpy\n",
    "\n",
    "data = numpy.loadtxt(fname='data/inflammation-01.csv', delimiter=',')\n",
    "print(data)\n",
    "\n",
    "# print different attributes of the 'data' object just defined \n",
    "print(type(data))\n",
    "print(data.dtype)\n",
    "print(data.shape)\n",
    "print('first value in data:', data[0,0])\n",
    "print('middle value in data:', data[29,19]) # assesses row 30, column 20"
   ]
  },
  {
   "cell_type": "code",
   "execution_count": 17,
   "metadata": {},
   "outputs": [
    {
     "name": "stdout",
     "output_type": "stream",
     "text": [
      "patients 1 through 4:\n",
      "[[0. 0. 1. 3. 1. 2. 4. 7. 8. 3.]\n",
      " [0. 1. 2. 1. 2. 1. 3. 2. 2. 6.]\n",
      " [0. 1. 1. 3. 3. 2. 6. 2. 5. 9.]\n",
      " [0. 0. 2. 0. 4. 2. 2. 1. 6. 7.]]\n",
      "patients 6 through 10:\n",
      "[[0. 0. 1. 2. 2. 4. 2. 1. 6. 4.]\n",
      " [0. 0. 2. 2. 4. 2. 2. 5. 5. 8.]\n",
      " [0. 0. 1. 2. 3. 1. 2. 3. 5. 3.]\n",
      " [0. 0. 0. 3. 1. 5. 6. 5. 5. 8.]\n",
      " [0. 1. 1. 2. 1. 3. 5. 3. 5. 8.]]\n",
      "small is:\n",
      "[[2. 3. 0. 0.]\n",
      " [1. 1. 0. 1.]\n",
      " [2. 2. 1. 1.]]\n"
     ]
    }
   ],
   "source": [
    "# Slicing data\n",
    "# select the first 10 colums (days) for the first 4 patients\n",
    "# 0:4 means start at index 0 and go up to, but not including, 4. \n",
    "print('patients 1 through 4:')\n",
    "print(data[0:4, 0:10])\n",
    "\n",
    "# 5:10 therefore means, starting from patient 6 to 10, or index 5 to 9 inclusive.\n",
    "print('patients 6 through 10:')\n",
    "print(data[5:10, 0:10])\n",
    "\n",
    "# the following selects rows 0 through 2 and columns 36 to the end \n",
    "small = data[:3, 36:]\n",
    "print('small is:')\n",
    "print(small)"
   ]
  },
  {
   "cell_type": "code",
   "execution_count": 20,
   "metadata": {},
   "outputs": [
    {
     "name": "stdout",
     "output_type": "stream",
     "text": [
      "Fri Oct 18 12:32:07 2024\n"
     ]
    }
   ],
   "source": [
    "# Example of a function that doesn't have any input/arguments\n",
    "import time\n",
    "print(time.ctime())"
   ]
  },
  {
   "cell_type": "code",
   "execution_count": 12,
   "metadata": {},
   "outputs": [
    {
     "name": "stdout",
     "output_type": "stream",
     "text": [
      "6.14875\n",
      "maximum inflammation: 20.0\n",
      "minimum inflammation: 0.0\n",
      "standard deviation: 4.613833197118566\n",
      "maximum inflammation for patient 0: 18.0\n",
      "maximum inflammation for patient 2: 19.0\n",
      "[ 0.          0.45        1.11666667  1.75        2.43333333  3.15\n",
      "  3.8         3.88333333  5.23333333  5.51666667  5.95        5.9\n",
      "  8.35        7.73333333  8.36666667  9.5         9.58333333 10.63333333\n",
      " 11.56666667 12.35       13.25       11.96666667 11.03333333 10.16666667\n",
      " 10.          8.66666667  9.15        7.25        7.33333333  6.58333333\n",
      "  6.06666667  5.95        5.11666667  3.6         3.3         3.56666667\n",
      "  2.48333333  1.5         1.13333333  0.56666667]\n",
      "(40,)\n",
      "[5.45  5.425 6.1   5.9   5.55  6.225 5.975 6.65  6.625 6.525 6.775 5.8\n",
      " 6.225 5.75  5.225 6.3   6.55  5.7   5.85  6.55  5.775 5.825 6.175 6.1\n",
      " 5.8   6.425 6.05  6.025 6.175 6.55  6.175 6.35  6.725 6.125 7.075 5.725\n",
      " 5.925 6.15  6.075 5.75  5.975 5.725 6.3   5.9   6.75  5.925 7.225 6.15\n",
      " 5.95  6.275 5.7   6.1   6.825 5.975 6.725 5.7   6.25  6.4   7.05  5.9  ]\n",
      "(60,)\n"
     ]
    }
   ],
   "source": [
    "# Analysing data \n",
    "\n",
    "# find the average inflammation for all patients on all days\n",
    "print(numpy.mean(data))\n",
    "\n",
    "# find maximum, minimum, and standard devation and define them as objects\n",
    "maxval, minval, stdval = numpy.amax(data), numpy.amin(data), numpy.std(data)\n",
    "print('maximum inflammation:', maxval)\n",
    "print('minimum inflammation:', minval)\n",
    "print('standard deviation:', stdval)\n",
    "\n",
    "patient_0 = data[0, :] # 0 on the first axis (rows) and everything in the column)\n",
    "print('maximum inflammation for patient 0:', numpy.amax(patient_0))\n",
    "\n",
    "# We don't need a row of variables on its own to do that. \n",
    "print('maximum inflammation for patient 2:', numpy.amax(data[2, :]))\n",
    "\n",
    "# Get the maximum inflammation for each patient over all days (average of each row)\n",
    "print(numpy.mean(data, axis=0)) # axis 0 is the rows \n",
    "print(numpy.mean(data, axis=0).shape) # tells us there are 40 averages from 40 rows\n",
    "print(numpy.mean(data, axis=1))\n",
    "print(numpy.mean(data, axis=1).shape) # 60 averages from 60 columns"
   ]
  },
  {
   "cell_type": "code",
   "execution_count": 17,
   "metadata": {},
   "outputs": [
    {
     "name": "stdout",
     "output_type": "stream",
     "text": [
      "oxy\n",
      "xyge\n",
      "gen\n"
     ]
    }
   ],
   "source": [
    "element = 'oxygen'\n",
    "print(element[0:3]) # first 3 letters of oxygen\n",
    "print(element[1:-1]) # oxygen with the first and last index removed\n",
    "print(element[-3:])"
   ]
  },
  {
   "cell_type": "code",
   "execution_count": 47,
   "metadata": {},
   "outputs": [
    {
     "name": "stdout",
     "output_type": "stream",
     "text": [
      "A = \n",
      "[[1 2 3]\n",
      " [4 5 6]\n",
      " [7 8 9]]\n",
      "B = \n",
      "[[1 2 3 1 2 3]\n",
      " [4 5 6 4 5 6]\n",
      " [7 8 9 7 8 9]]\n",
      "C = \n",
      "[[1 2 3]\n",
      " [4 5 6]\n",
      " [7 8 9]\n",
      " [1 2 3]\n",
      " [4 5 6]\n",
      " [7 8 9]]\n",
      "D = \n",
      "[[1 3]\n",
      " [4 6]\n",
      " [7 9]]\n"
     ]
    }
   ],
   "source": [
    "# Stacking arrays \n",
    "import numpy \n",
    "\n",
    "A = numpy.array([[1, 2, 3], [4, 5, 6], [7, 8, 9]])\n",
    "print('A = ')\n",
    "print(A)\n",
    "\n",
    "B = numpy.hstack([A, A])\n",
    "print('B = ')\n",
    "print(B)\n",
    "\n",
    "C = numpy.vstack([A, A])\n",
    "print('C = ')\n",
    "print(C)\n",
    "\n",
    "D = numpy.hstack((A[:, :1], A[:, -1:]))\n",
    "print('D = ')\n",
    "print(D)\n",
    "\n"
   ]
  },
  {
   "cell_type": "code",
   "execution_count": 55,
   "metadata": {},
   "outputs": [
    {
     "name": "stdout",
     "output_type": "stream",
     "text": [
      "[0. 0. 2. 0. 4. 2. 2.]\n",
      "[[ 0.  1.  2. -2.  1.  2.]\n",
      " [ 1.  1. -1.  1. -1.  2.]\n",
      " [ 1.  0.  2.  0. -1.  4.]\n",
      " [ 0.  2. -2.  4. -2.  0.]\n",
      " [ 1.  0.  2.  0. -2.  2.]\n",
      " [ 0.  1.  1.  0.  2. -2.]\n",
      " [ 0.  2.  0.  2. -2.  0.]\n",
      " [ 0.  1.  1.  1. -2.  1.]\n",
      " [ 0.  0.  3. -2.  4.  1.]\n",
      " [ 1.  0.  1. -1.  2.  2.]\n",
      " [ 1. -1.  0.  4. -1.  0.]\n",
      " [ 1. -1.  0.  3.  1. -2.]\n",
      " [ 0.  2. -1.  3. -1.  3.]\n",
      " [ 0.  0.  0.  1.  2. -2.]\n",
      " [ 1.  1. -1.  0.  0.  3.]\n",
      " [ 1.  0. -1.  1.  1.  2.]\n",
      " [ 0.  0.  0.  2.  1.  3.]\n",
      " [ 0.  0.  1.  1. -1.  3.]\n",
      " [ 0.  2. -1.  1.  3. -1.]\n",
      " [ 1.  1. -2.  1.  3. -1.]\n",
      " [ 1.  0.  2. -2.  3.  0.]\n",
      " [ 0.  2.  1. -1.  1. -1.]\n",
      " [ 0.  0.  3.  1.  1. -4.]\n",
      " [ 1.  0.  0.  0.  2.  0.]\n",
      " [ 1.  0.  0.  1.  1.  2.]\n",
      " [ 0.  2. -1.  2.  0. -1.]\n",
      " [ 0.  1.  1.  2. -2.  0.]\n",
      " [ 0.  1.  0.  0.  4. -4.]\n",
      " [ 0.  2.  0.  1.  1.  2.]\n",
      " [ 0.  0.  1.  3.  0.  2.]\n",
      " [ 1.  0. -1.  3. -1.  2.]\n",
      " [ 0.  2.  1.  0.  1.  1.]\n",
      " [ 1.  1.  0.  0.  1.  3.]\n",
      " [ 0.  2. -1.  2.  2.  1.]\n",
      " [ 0.  1.  1.  2. -3.  4.]\n",
      " [ 0.  0.  3. -2.  2.  3.]\n",
      " [ 1.  1.  0.  0.  3.  0.]\n",
      " [ 1.  0.  1.  1. -2.  4.]\n",
      " [ 1. -1.  3. -1.  2. -3.]\n",
      " [ 1.  0.  2. -2.  0.  4.]\n",
      " [ 0.  0.  2.  0. -1.  2.]\n",
      " [ 0.  1.  2.  0. -2.  1.]\n",
      " [ 1.  0.  2.  1.  1. -3.]\n",
      " [ 0.  1.  2. -2.  3. -1.]\n",
      " [ 1.  0.  2.  0.  1.  0.]\n",
      " [ 1.  1.  0.  2. -1. -2.]\n",
      " [ 0.  2.  1.  1.  1. -1.]\n",
      " [ 1.  0.  2. -2.  3.  2.]\n",
      " [ 0.  1.  2. -1.  3. -4.]\n",
      " [ 0.  1.  1.  1.  1.  1.]\n",
      " [ 1.  1. -1.  0.  2.  2.]\n",
      " [ 1.  1.  0.  1.  2. -3.]\n",
      " [ 0.  0.  2.  2.  0.  1.]\n",
      " [ 0.  2. -1.  0.  3.  0.]\n",
      " [ 1.  1. -1.  0.  3.  1.]\n",
      " [ 0.  1.  2. -1.  1.  3.]\n",
      " [ 1.  0.  1.  0.  3. -4.]\n",
      " [ 1.  0.  0.  3. -3.  5.]\n",
      " [ 0.  0.  1.  3.  1.  1.]\n",
      " [ 0.  1. -1.  3. -1.  3.]]\n"
     ]
    },
    {
     "data": {
      "text/plain": [
       "array([12., 14., 11., 13., 11., 13., 10., 12., 10., 10., 10., 12., 13.,\n",
       "       10., 11., 10., 12., 13.,  9., 10., 13.,  9., 12.,  9., 12., 11.,\n",
       "       10., 13.,  9., 13., 11., 11.,  8., 11., 12., 13.,  9., 10., 13.,\n",
       "       11., 11., 13., 11., 13., 13., 10.,  9., 10., 10.,  9.,  9., 13.,\n",
       "       10.,  9., 10., 11., 13., 10., 10., 12.])"
      ]
     },
     "execution_count": 55,
     "metadata": {},
     "output_type": "execute_result"
    }
   ],
   "source": [
    "# Change in inflammation \n",
    "\n",
    "patient3_week1 = data[3, :7]\n",
    "print(patient3_week1)\n",
    "numpy.diff(patient3_week1) # array shorter by one element\n",
    "\n",
    "# Find the difference for each patient \n",
    "all_week1 = data[:,0:7]\n",
    "print(numpy.diff(all_week1))\n",
    "numpy.diff(all_week1).shape\n",
    "\n",
    "# Find the largest difference between days (biggest increase)\n",
    "numpy.amax(numpy.diff(data, axis=1), axis=1)\n",
    "\n",
    "# Find the largest difference in magnitude, increase or decrease\n",
    "numpy.amax(numpy.absolute(numpy.diff(data, axis=1)), axis=1)"
   ]
  },
  {
   "cell_type": "code",
   "execution_count": null,
   "metadata": {},
   "outputs": [],
   "source": []
  }
 ],
 "metadata": {
  "kernelspec": {
   "display_name": "conda1",
   "language": "python",
   "name": "python3"
  },
  "language_info": {
   "codemirror_mode": {
    "name": "ipython",
    "version": 3
   },
   "file_extension": ".py",
   "mimetype": "text/x-python",
   "name": "python",
   "nbconvert_exporter": "python",
   "pygments_lexer": "ipython3",
   "version": "3.12.7"
  }
 },
 "nbformat": 4,
 "nbformat_minor": 2
}
