{
 "cells": [
  {
   "cell_type": "code",
   "id": "initial_id",
   "metadata": {
    "collapsed": true,
    "ExecuteTime": {
     "end_time": "2025-03-25T11:03:41.394215Z",
     "start_time": "2025-03-25T11:03:40.578022Z"
    }
   },
   "source": [
    "## Assertions\n",
    "# Assertions are statements which must be true at a certain point in a programme\n",
    "numbers = [1.5, 2.3, 0.7, -0.001, 4.4]\n",
    "total = 0.0\n",
    "for num in numbers:\n",
    "    assert num > 0.0, 'Data should only contain positive values'\n",
    "    total += num\n",
    "print('total is:', total)"
   ],
   "outputs": [
    {
     "ename": "AssertionError",
     "evalue": "Data should only contain positive values",
     "output_type": "error",
     "traceback": [
      "\u001B[1;31m---------------------------------------------------------------------------\u001B[0m",
      "\u001B[1;31mAssertionError\u001B[0m                            Traceback (most recent call last)",
      "Cell \u001B[1;32mIn[1], line 6\u001B[0m\n\u001B[0;32m      4\u001B[0m total \u001B[38;5;241m=\u001B[39m \u001B[38;5;241m0.0\u001B[39m\n\u001B[0;32m      5\u001B[0m \u001B[38;5;28;01mfor\u001B[39;00m num \u001B[38;5;129;01min\u001B[39;00m numbers:\n\u001B[1;32m----> 6\u001B[0m     \u001B[38;5;28;01massert\u001B[39;00m num \u001B[38;5;241m>\u001B[39m \u001B[38;5;241m0.0\u001B[39m, \u001B[38;5;124m'\u001B[39m\u001B[38;5;124mData should only contain positive values\u001B[39m\u001B[38;5;124m'\u001B[39m\n\u001B[0;32m      7\u001B[0m     total \u001B[38;5;241m+\u001B[39m\u001B[38;5;241m=\u001B[39m num\n\u001B[0;32m      8\u001B[0m \u001B[38;5;28mprint\u001B[39m(\u001B[38;5;124m'\u001B[39m\u001B[38;5;124mtotal is:\u001B[39m\u001B[38;5;124m'\u001B[39m, total)\n",
      "\u001B[1;31mAssertionError\u001B[0m: Data should only contain positive values"
     ]
    }
   ],
   "execution_count": 1
  },
  {
   "metadata": {
    "ExecuteTime": {
     "end_time": "2025-03-26T14:26:34.389518Z",
     "start_time": "2025-03-26T14:26:34.382715Z"
    }
   },
   "cell_type": "code",
   "source": [
    "def normalise_rectangle(rect):\n",
    "    \"\"\"Normalises a rectangle so that it is at the origin and 1.0 units long on its longest axis. Input should be of the format (x0, y0, x1, y1).\n",
    "    (x0, y0) and (x1, y1) define the lower left and upper right corners of the rectangle, respectively.\"\"\"\n",
    "    assert len(rect) == 4, 'Rectangles must contain 4 coordinates'\n",
    "    x0, y0, x1, y1 = rect\n",
    "    assert x0 < x1, 'Invalid X coordinates'\n",
    "    assert y0 < y1, 'Invalid Y coordinates'\n",
    "\n",
    "    dx = x1 - x0\n",
    "    dy = y1 - y0\n",
    "    if dx > dy:\n",
    "        scaled = dx / dy\n",
    "        upper_x, upper_y = 1.0, scaled\n",
    "    else:\n",
    "        scaled = dx / dy\n",
    "        upper_x, upper_y = scaled, 1.0\n",
    "\n",
    "    assert 0 < upper_x <= 1.0, 'Calculated upper X coordinate invalid'\n",
    "    assert 0 < upper_y <= 1.0, 'Calculated upper Y coordinate invalid'\n",
    "\n",
    "    return (0, 0, upper_x, upper_y)\n",
    "\n",
    "print(normalise_rectangle((0, 1, 2, 4)))"
   ],
   "id": "748b54290d38245e",
   "outputs": [
    {
     "name": "stdout",
     "output_type": "stream",
     "text": [
      "(0, 0, 0.6666666666666666, 1.0)\n"
     ]
    }
   ],
   "execution_count": 11
  },
  {
   "metadata": {
    "ExecuteTime": {
     "end_time": "2025-03-26T14:26:36.794594Z",
     "start_time": "2025-03-26T14:26:36.765560Z"
    }
   },
   "cell_type": "code",
   "source": [
    "# Assertion error: Rectangles must contain 4 coordinates\n",
    "print(normalise_rectangle((0, 1, 2)))"
   ],
   "id": "1dac18242f14d40f",
   "outputs": [
    {
     "ename": "AssertionError",
     "evalue": "Rectangles must contain 4 coordinates",
     "output_type": "error",
     "traceback": [
      "\u001B[1;31m---------------------------------------------------------------------------\u001B[0m",
      "\u001B[1;31mAssertionError\u001B[0m                            Traceback (most recent call last)",
      "Cell \u001B[1;32mIn[12], line 2\u001B[0m\n\u001B[0;32m      1\u001B[0m \u001B[38;5;66;03m# Assertion error: Rectangles must contain 4 coordinates\u001B[39;00m\n\u001B[1;32m----> 2\u001B[0m \u001B[38;5;28mprint\u001B[39m(normalise_rectangle((\u001B[38;5;241m0\u001B[39m, \u001B[38;5;241m1\u001B[39m, \u001B[38;5;241m2\u001B[39m)))\n",
      "Cell \u001B[1;32mIn[11], line 4\u001B[0m, in \u001B[0;36mnormalise_rectangle\u001B[1;34m(rect)\u001B[0m\n\u001B[0;32m      1\u001B[0m \u001B[38;5;28;01mdef\u001B[39;00m \u001B[38;5;21mnormalise_rectangle\u001B[39m(rect):\n\u001B[0;32m      2\u001B[0m \u001B[38;5;250m    \u001B[39m\u001B[38;5;124;03m\"\"\"Normalises a rectangle so that it is at the origin and 1.0 units long on its longest axis. Input should be of the format (x0, y0, x1, y1).\u001B[39;00m\n\u001B[0;32m      3\u001B[0m \u001B[38;5;124;03m    (x0, y0) and (x1, y1) define the lower left and upper right corners of the rectangle, respectively.\"\"\"\u001B[39;00m\n\u001B[1;32m----> 4\u001B[0m     \u001B[38;5;28;01massert\u001B[39;00m \u001B[38;5;28mlen\u001B[39m(rect) \u001B[38;5;241m==\u001B[39m \u001B[38;5;241m4\u001B[39m, \u001B[38;5;124m'\u001B[39m\u001B[38;5;124mRectangles must contain 4 coordinates\u001B[39m\u001B[38;5;124m'\u001B[39m\n\u001B[0;32m      5\u001B[0m     x0, y0, x1, y1 \u001B[38;5;241m=\u001B[39m rect\n\u001B[0;32m      6\u001B[0m     \u001B[38;5;28;01massert\u001B[39;00m x0 \u001B[38;5;241m<\u001B[39m x1, \u001B[38;5;124m'\u001B[39m\u001B[38;5;124mInvalid X coordinates\u001B[39m\u001B[38;5;124m'\u001B[39m\n",
      "\u001B[1;31mAssertionError\u001B[0m: Rectangles must contain 4 coordinates"
     ]
    }
   ],
   "execution_count": 12
  },
  {
   "metadata": {
    "ExecuteTime": {
     "end_time": "2025-03-26T14:26:40.878279Z",
     "start_time": "2025-03-26T14:26:40.848273Z"
    }
   },
   "cell_type": "code",
   "source": "print(normalise_rectangle((0, 0, 5, 1)))",
   "id": "a55b75c2d4986d32",
   "outputs": [
    {
     "ename": "AssertionError",
     "evalue": "Calculated upper Y coordinate invalid",
     "output_type": "error",
     "traceback": [
      "\u001B[1;31m---------------------------------------------------------------------------\u001B[0m",
      "\u001B[1;31mAssertionError\u001B[0m                            Traceback (most recent call last)",
      "Cell \u001B[1;32mIn[13], line 1\u001B[0m\n\u001B[1;32m----> 1\u001B[0m \u001B[38;5;28mprint\u001B[39m(normalise_rectangle((\u001B[38;5;241m0\u001B[39m, \u001B[38;5;241m0\u001B[39m, \u001B[38;5;241m5\u001B[39m, \u001B[38;5;241m1\u001B[39m)))\n",
      "Cell \u001B[1;32mIn[11], line 19\u001B[0m, in \u001B[0;36mnormalise_rectangle\u001B[1;34m(rect)\u001B[0m\n\u001B[0;32m     16\u001B[0m     upper_x, upper_y \u001B[38;5;241m=\u001B[39m scaled, \u001B[38;5;241m1.0\u001B[39m\n\u001B[0;32m     18\u001B[0m \u001B[38;5;28;01massert\u001B[39;00m \u001B[38;5;241m0\u001B[39m \u001B[38;5;241m<\u001B[39m upper_x \u001B[38;5;241m<\u001B[39m\u001B[38;5;241m=\u001B[39m \u001B[38;5;241m1.0\u001B[39m, \u001B[38;5;124m'\u001B[39m\u001B[38;5;124mCalculated upper X coordinate invalid\u001B[39m\u001B[38;5;124m'\u001B[39m\n\u001B[1;32m---> 19\u001B[0m \u001B[38;5;28;01massert\u001B[39;00m \u001B[38;5;241m0\u001B[39m \u001B[38;5;241m<\u001B[39m upper_y \u001B[38;5;241m<\u001B[39m\u001B[38;5;241m=\u001B[39m \u001B[38;5;241m1.0\u001B[39m, \u001B[38;5;124m'\u001B[39m\u001B[38;5;124mCalculated upper Y coordinate invalid\u001B[39m\u001B[38;5;124m'\u001B[39m\n\u001B[0;32m     21\u001B[0m \u001B[38;5;28;01mreturn\u001B[39;00m (\u001B[38;5;241m0\u001B[39m, \u001B[38;5;241m0\u001B[39m, upper_x, upper_y)\n",
      "\u001B[1;31mAssertionError\u001B[0m: Calculated upper Y coordinate invalid"
     ]
    }
   ],
   "execution_count": 13
  },
  {
   "metadata": {
    "ExecuteTime": {
     "end_time": "2025-03-26T14:48:13.412574Z",
     "start_time": "2025-03-26T14:48:13.371277Z"
    }
   },
   "cell_type": "code",
   "source": [
    "## Test Driven Development\n",
    "# If people write tests after writing the thing to be tested, they are subject to confirmation bias - they write tests to show that code is correct, rather than to find errors\n",
    "# Writing tests helps programmers figure out what the function is actually supposed to do\n",
    "def range_overlap(ranges):\n",
    "    \"\"\" Return common overlap among a set of [left, right] ranges.\"\"\"\n",
    "    max_left = 0.0\n",
    "    min_right = 1.0\n",
    "    for (left, right) in ranges:\n",
    "        max_left = max(max_left, left)\n",
    "        min_right = min(min_right, right)\n",
    "    return (max_left, min_right)\n",
    "\n",
    "def test_range_overlap():\n",
    "    assert range_overlap([ (0.0, 1.0), (5.0, 6.0)]) == None\n",
    "    assert range_overlap([ (0.0, 1.0), (1.0, 2.0)]) == None\n",
    "    assert range_overlap([ (0.0, 1.0) ]) == (0.0, 1.0)\n",
    "    assert range_overlap([ (2.0, 3.0), (2.0, 4.0) ]) == (2.0, 3.0)\n",
    "    assert range_overlap([ (0.0, 1.0), (0.0, 2.0), (-1.0, 1.0) ]) == (0.0, 1.0)\n",
    "    assert range_overlap([]) == None\n",
    "\n",
    "test_range_overlap()"
   ],
   "id": "a4ea758e0ed4827e",
   "outputs": [
    {
     "ename": "AssertionError",
     "evalue": "",
     "output_type": "error",
     "traceback": [
      "\u001B[1;31m---------------------------------------------------------------------------\u001B[0m",
      "\u001B[1;31mAssertionError\u001B[0m                            Traceback (most recent call last)",
      "Cell \u001B[1;32mIn[18], line 21\u001B[0m\n\u001B[0;32m     18\u001B[0m     \u001B[38;5;28;01massert\u001B[39;00m range_overlap([ (\u001B[38;5;241m0.0\u001B[39m, \u001B[38;5;241m1.0\u001B[39m), (\u001B[38;5;241m0.0\u001B[39m, \u001B[38;5;241m2.0\u001B[39m), (\u001B[38;5;241m-\u001B[39m\u001B[38;5;241m1.0\u001B[39m, \u001B[38;5;241m1.0\u001B[39m) ]) \u001B[38;5;241m==\u001B[39m (\u001B[38;5;241m0.0\u001B[39m, \u001B[38;5;241m1.0\u001B[39m)\n\u001B[0;32m     19\u001B[0m     \u001B[38;5;28;01massert\u001B[39;00m range_overlap([]) \u001B[38;5;241m==\u001B[39m \u001B[38;5;28;01mNone\u001B[39;00m\n\u001B[1;32m---> 21\u001B[0m test_range_overlap()\n",
      "Cell \u001B[1;32mIn[18], line 14\u001B[0m, in \u001B[0;36mtest_range_overlap\u001B[1;34m()\u001B[0m\n\u001B[0;32m     13\u001B[0m \u001B[38;5;28;01mdef\u001B[39;00m \u001B[38;5;21mtest_range_overlap\u001B[39m():\n\u001B[1;32m---> 14\u001B[0m     \u001B[38;5;28;01massert\u001B[39;00m range_overlap([ (\u001B[38;5;241m0.0\u001B[39m, \u001B[38;5;241m1.0\u001B[39m), (\u001B[38;5;241m5.0\u001B[39m, \u001B[38;5;241m6.0\u001B[39m)]) \u001B[38;5;241m==\u001B[39m \u001B[38;5;28;01mNone\u001B[39;00m\n\u001B[0;32m     15\u001B[0m     \u001B[38;5;28;01massert\u001B[39;00m range_overlap([ (\u001B[38;5;241m0.0\u001B[39m, \u001B[38;5;241m1.0\u001B[39m), (\u001B[38;5;241m1.0\u001B[39m, \u001B[38;5;241m2.0\u001B[39m)]) \u001B[38;5;241m==\u001B[39m \u001B[38;5;28;01mNone\u001B[39;00m\n\u001B[0;32m     16\u001B[0m     \u001B[38;5;28;01massert\u001B[39;00m range_overlap([ (\u001B[38;5;241m0.0\u001B[39m, \u001B[38;5;241m1.0\u001B[39m) ]) \u001B[38;5;241m==\u001B[39m (\u001B[38;5;241m0.0\u001B[39m, \u001B[38;5;241m1.0\u001B[39m)\n",
      "\u001B[1;31mAssertionError\u001B[0m: "
     ]
    }
   ],
   "execution_count": 18
  },
  {
   "metadata": {
    "ExecuteTime": {
     "end_time": "2025-03-26T15:02:29.022548Z",
     "start_time": "2025-03-26T15:02:29.016499Z"
    }
   },
   "cell_type": "code",
   "source": [
    "def get_total_cars(values):\n",
    "    assert len(values) > 0, 'List must be at least 1 element long'\n",
    "    for element in values:\n",
    "        assert element > 0, 'Each element must be positive'\n",
    "        assert int(element), 'Each element must be an integer'\n",
    "    values = [int(element) for element in values]\n",
    "    total = sum(values)\n",
    "    assert total > 0, 'Total must be greater than 0'\n",
    "    return total\n",
    "\n",
    "get_total_cars([1, 2, 3, 4])"
   ],
   "id": "e6d037b957995d3a",
   "outputs": [
    {
     "data": {
      "text/plain": [
       "10"
      ]
     },
     "execution_count": 26,
     "metadata": {},
     "output_type": "execute_result"
    }
   ],
   "execution_count": 26
  }
 ],
 "metadata": {
  "kernelspec": {
   "display_name": "Python 3",
   "language": "python",
   "name": "python3"
  },
  "language_info": {
   "codemirror_mode": {
    "name": "ipython",
    "version": 2
   },
   "file_extension": ".py",
   "mimetype": "text/x-python",
   "name": "python",
   "nbconvert_exporter": "python",
   "pygments_lexer": "ipython2",
   "version": "2.7.6"
  }
 },
 "nbformat": 4,
 "nbformat_minor": 5
}
